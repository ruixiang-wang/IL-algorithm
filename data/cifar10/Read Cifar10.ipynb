{
 "cells": [
  {
   "cell_type": "code",
   "execution_count": 1,
   "id": "db4fba49",
   "metadata": {},
   "outputs": [],
   "source": [
    "def unpickle(file):\n",
    "    import pickle\n",
    "    with open(file, 'rb') as fo:\n",
    "        dict = pickle.load(fo, encoding='bytes')\n",
    "    return dict"
   ]
  },
  {
   "cell_type": "code",
   "execution_count": 2,
   "id": "36f2cc01",
   "metadata": {},
   "outputs": [],
   "source": [
    "label_name = [\"airplane\", \"automobile\", \"bird\", \"cat\", \"deer\",  \"dog\",  \"frog\",  \"horse\",  \"ship\", \"truck\"]"
   ]
  },
  {
   "cell_type": "code",
   "execution_count": 3,
   "id": "c4c751de",
   "metadata": {},
   "outputs": [
    {
     "name": "stderr",
     "output_type": "stream",
     "text": [
      "D:\\Anaconda3\\lib\\site-packages\\torchvision\\io\\image.py:13: UserWarning: Failed to load image Python extension: [WinError 127] 找不到指定的程序。\n",
      "  warn(f\"Failed to load image Python extension: {e}\")\n"
     ]
    }
   ],
   "source": [
    "import glob\n",
    "import numpy as np\n",
    "import cv2\n",
    "import os\n",
    "import torch\n",
    "import torchvision.transforms as transforms\n",
    "from PIL import Image, ImageDraw"
   ]
  },
  {
   "cell_type": "code",
   "execution_count": 17,
   "id": "a935ff91",
   "metadata": {},
   "outputs": [],
   "source": [
    "train_list = glob.glob(\"./cifar10/data_batch_*\")\n",
    "save_path = \"./raw_train\""
   ]
  },
  {
   "cell_type": "code",
   "execution_count": 10,
   "id": "76c3eb59",
   "metadata": {},
   "outputs": [
    {
     "data": {
      "text/plain": [
       "['./cifar10\\\\data_batch_1',\n",
       " './cifar10\\\\data_batch_2',\n",
       " './cifar10\\\\data_batch_3',\n",
       " './cifar10\\\\data_batch_4',\n",
       " './cifar10\\\\data_batch_5']"
      ]
     },
     "execution_count": 10,
     "metadata": {},
     "output_type": "execute_result"
    }
   ],
   "source": [
    "train_list"
   ]
  },
  {
   "cell_type": "code",
   "execution_count": 18,
   "id": "5ed97163",
   "metadata": {},
   "outputs": [
    {
     "name": "stdout",
     "output_type": "stream",
     "text": [
      "./cifar10\\data_batch_1\n",
      "./cifar10\\data_batch_2\n",
      "./cifar10\\data_batch_3\n",
      "./cifar10\\data_batch_4\n",
      "./cifar10\\data_batch_5\n"
     ]
    }
   ],
   "source": [
    "for l in train_list:\n",
    "    print(l)\n",
    "    l_dict = unpickle(l)\n",
    "    # print(l_dict)\n",
    "    # print(l_dict.keys())\n",
    "    \n",
    "    for im_idx, im_data in enumerate(l_dict[b'data']):\n",
    "    # print(im_idx)\n",
    "    # print(im_data)\n",
    "        im_label = l_dict[b'labels'][im_idx]\n",
    "        im_name = l_dict[b'filenames'][im_idx]\n",
    "        im_label_name = label_name[im_label]\n",
    "        im_data = np.reshape(im_data, [3, 32, 32])\n",
    "        temp = np.ones([4,32,32])\n",
    "        temp[0] = im_data[0]\n",
    "        temp[1] = im_data[1]\n",
    "        temp[2] = im_data[1]\n",
    "        temp[3] = im_data[2]\n",
    "        im_data = np.transpose(temp, (1,2,0))\n",
    "        if not os.path.exists(\"{}/{}\".format(save_path, im_label_name)):\n",
    "            os.mkdir(\"{}/{}\".format(save_path, im_label_name))\n",
    "        cv2.imwrite(\"{}/{}/{}\".format(save_path, im_label_name, im_name.decode('utf-8')), im_data)"
   ]
  },
  {
   "cell_type": "code",
   "execution_count": 9,
   "id": "339270da",
   "metadata": {},
   "outputs": [],
   "source": [
    "test_list = glob.glob(\"./cifar10/test_batch\")\n",
    "test_save_path = \"./test\""
   ]
  },
  {
   "cell_type": "code",
   "execution_count": 10,
   "id": "d423148d",
   "metadata": {},
   "outputs": [
    {
     "name": "stdout",
     "output_type": "stream",
     "text": [
      "./cifar10/test_batch\n",
      "dict_keys([b'batch_label', b'labels', b'data', b'filenames'])\n"
     ]
    }
   ],
   "source": [
    "for l in test_list:\n",
    "    print(l)\n",
    "    l_dict = unpickle(l)\n",
    "    # print(l_dict)\n",
    "    print(l_dict.keys())"
   ]
  },
  {
   "cell_type": "code",
   "execution_count": 11,
   "id": "61566a9e",
   "metadata": {},
   "outputs": [],
   "source": [
    "for im_idx, im_data in enumerate(l_dict[b'data']):\n",
    "    # print(im_idx)\n",
    "    # print(im_data)\n",
    "    im_label = l_dict[b'labels'][im_idx]\n",
    "    im_name = l_dict[b'filenames'][im_idx]\n",
    "    im_label_name = label_name[im_label]\n",
    "    im_data = np.reshape(im_data, [3, 32, 32])\n",
    "    im_data = np.transpose(im_data, (1,2,0))\n",
    "    if not os.path.exists(\"{}/{}\".format(test_save_path, im_label_name)):\n",
    "        os.mkdir(\"{}/{}\".format(test_save_path, im_label_name))\n",
    "    cv2.imwrite(\"{}/{}/{}\".format(test_save_path, im_label_name, im_name.decode('utf-8')), im_data)"
   ]
  },
  {
   "cell_type": "code",
   "execution_count": 42,
   "id": "d2b5fd88",
   "metadata": {},
   "outputs": [],
   "source": [
    "img1 = l_dict[b'data'][1]"
   ]
  },
  {
   "cell_type": "code",
   "execution_count": 43,
   "id": "2546a124",
   "metadata": {},
   "outputs": [],
   "source": [
    "img1 = np.reshape(img1, [3, 32, 32])"
   ]
  },
  {
   "cell_type": "code",
   "execution_count": 48,
   "id": "7ede81f5",
   "metadata": {},
   "outputs": [],
   "source": [
    "img1 = np.transpose(img1, (1,2,0))"
   ]
  },
  {
   "cell_type": "code",
   "execution_count": 19,
   "id": "2e04eb98",
   "metadata": {},
   "outputs": [
    {
     "data": {
      "text/plain": [
       "numpy.ndarray"
      ]
     },
     "execution_count": 19,
     "metadata": {},
     "output_type": "execute_result"
    }
   ],
   "source": [
    "type(img1)"
   ]
  },
  {
   "cell_type": "code",
   "execution_count": 45,
   "id": "78b701ba",
   "metadata": {},
   "outputs": [],
   "source": [
    "img1[0] = 0\n",
    "img1[2] = 0"
   ]
  },
  {
   "cell_type": "code",
   "execution_count": 44,
   "id": "ea19405d",
   "metadata": {},
   "outputs": [
    {
     "data": {
      "text/plain": [
       "(3, 32, 32)"
      ]
     },
     "execution_count": 44,
     "metadata": {},
     "output_type": "execute_result"
    }
   ],
   "source": [
    "img1.shape"
   ]
  },
  {
   "cell_type": "code",
   "execution_count": 49,
   "id": "13af351f",
   "metadata": {},
   "outputs": [],
   "source": [
    "im = Image.fromarray(img1)"
   ]
  },
  {
   "cell_type": "code",
   "execution_count": 50,
   "id": "cfecd461",
   "metadata": {},
   "outputs": [
    {
     "data": {
      "image/png": "[encoded data removed]",
      "text/plain": [
       "<PIL.Image.Image image mode=RGB size=32x32>"
      ]
     },
     "execution_count": 50,
     "metadata": {},
     "output_type": "execute_result"
    }
   ],
   "source": [
    "im"
   ]
  },
  {
   "cell_type": "code",
   "execution_count": null,
   "id": "900aa0a3",
   "metadata": {},
   "outputs": [],
   "source": []
  }
 ],
 "metadata": {
  "kernelspec": {
   "display_name": "Python 3 (ipykernel)",
   "language": "python",
   "name": "python3"
  },
  "language_info": {
   "codemirror_mode": {
    "name": "ipython",
    "version": 3
   },
   "file_extension": ".py",
   "mimetype": "text/x-python",
   "name": "python",
   "nbconvert_exporter": "python",
   "pygments_lexer": "ipython3",
   "version": "3.9.15"
  }
 },
 "nbformat": 4,
 "nbformat_minor": 5
}
